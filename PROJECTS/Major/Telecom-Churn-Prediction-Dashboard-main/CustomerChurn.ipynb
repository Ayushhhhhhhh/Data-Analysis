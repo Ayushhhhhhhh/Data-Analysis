{
  "nbformat": 4,
  "nbformat_minor": 0,
  "metadata": {
    "colab": {
      "provenance": []
    },
    "kernelspec": {
      "name": "python3",
      "display_name": "Python 3"
    },
    "language_info": {
      "name": "python"
    }
  },
  "cells": [
    {
      "cell_type": "code",
      "execution_count": 2,
      "metadata": {
        "colab": {
          "base_uri": "https://localhost:8080/"
        },
        "id": "eaNOuwFfnPZE",
        "outputId": "3c24b0c8-7082-4c3a-8767-ea05aaba7713"
      },
      "outputs": [
        {
          "output_type": "stream",
          "name": "stdout",
          "text": [
            "Requirement already satisfied: scikit-learn==1.3.2 in /usr/local/lib/python3.11/dist-packages (1.3.2)\n",
            "Requirement already satisfied: numpy<2.0,>=1.17.3 in /usr/local/lib/python3.11/dist-packages (from scikit-learn==1.3.2) (1.26.4)\n",
            "Requirement already satisfied: scipy>=1.5.0 in /usr/local/lib/python3.11/dist-packages (from scikit-learn==1.3.2) (1.16.0)\n",
            "Requirement already satisfied: joblib>=1.1.1 in /usr/local/lib/python3.11/dist-packages (from scikit-learn==1.3.2) (1.5.1)\n",
            "Requirement already satisfied: threadpoolctl>=2.0.0 in /usr/local/lib/python3.11/dist-packages (from scikit-learn==1.3.2) (3.6.0)\n"
          ]
        }
      ],
      "source": [
        "# Install all necessary libraries\n",
        "!pip install streamlit -q\n",
        "!pip install pyngrok -q\n",
        "!pip install scikit-learn==1.3.2 # Ensure version consistency\n",
        "!pip install plotly -q"
      ]
    },
    {
      "cell_type": "code",
      "source": [
        "# Mount your Google Drive to access the files\n",
        "from google.colab import drive\n",
        "drive.mount('/content/drive')"
      ],
      "metadata": {
        "colab": {
          "base_uri": "https://localhost:8080/"
        },
        "id": "hxAoWxEBrw5-",
        "outputId": "3f289075-1013-49a2-d289-c8c5cba036c0"
      },
      "execution_count": 6,
      "outputs": [
        {
          "output_type": "stream",
          "name": "stdout",
          "text": [
            "Drive already mounted at /content/drive; to attempt to forcibly remount, call drive.mount(\"/content/drive\", force_remount=True).\n"
          ]
        }
      ]
    },
    {
      "cell_type": "code",
      "source": [
        "%%writefile app.py\n",
        "import streamlit as st\n",
        "import pandas as pd\n",
        "import joblib\n",
        "import plotly.express as px\n",
        "import os\n",
        "\n",
        "# --- Page Configuration ---\n",
        "st.set_page_config(\n",
        "    page_title=\"ChurnGuard Telecom Dashboard\",\n",
        "    page_icon=\"📡\",\n",
        "    layout=\"wide\",\n",
        "    initial_sidebar_state=\"expanded\"\n",
        ")\n",
        "\n",
        "# --- Helper Functions ---\n",
        "@st.cache_data\n",
        "def load_data(path):\n",
        "    \"\"\"Loads the telecom churn data for visualization.\"\"\"\n",
        "    if not os.path.exists(path):\n",
        "        st.error(f\"Error: The data file was not found at {path}.\")\n",
        "        st.info(\"Please ensure the file path is correct and the file is in your Google Drive.\")\n",
        "        return None\n",
        "    try:\n",
        "        df = pd.read_csv(path)\n",
        "        df['TotalCharges'] = pd.to_numeric(df['TotalCharges'], errors='coerce')\n",
        "        return df\n",
        "    except Exception as e:\n",
        "        st.error(f\"An error occurred while loading the data: {e}\")\n",
        "        return None\n",
        "\n",
        "@st.cache_resource\n",
        "def load_model(model_path, columns_path):\n",
        "    \"\"\"Loads the trained model and the feature columns.\"\"\"\n",
        "    if not os.path.exists(model_path) or not os.path.exists(columns_path):\n",
        "        st.error(\"Model files not found. Please ensure file paths are correct and files are in your Google Drive.\")\n",
        "        return None, None\n",
        "    try:\n",
        "        model = joblib.load(model_path)\n",
        "        model_columns = joblib.load(columns_path)\n",
        "        return model, model_columns\n",
        "    except Exception as e:\n",
        "        st.error(f\"An error occurred while loading the model: {e}\")\n",
        "        return None, None\n",
        "\n",
        "# --- Define Paths within the Google Drive ---\n",
        "# IMPORTANT: Update this path if your Google Drive folder is different\n",
        "DRIVE_BASE_PATH = '/content/drive/MyDrive/ChurnGuard/'\n",
        "\n",
        "DATA_PATH = os.path.join(DRIVE_BASE_PATH, 'data/telecom_churn_data.csv')\n",
        "MODEL_PATH = os.path.join(DRIVE_BASE_PATH, 'src/assets/churn_model.joblib')\n",
        "COLUMNS_PATH = os.path.join(DRIVE_BASE_PATH, 'src/assets/model_columns.joblib')\n",
        "\n",
        "# --- Load Data and Model ---\n",
        "df_viz = load_data(DATA_PATH)\n",
        "model, model_columns = load_model(MODEL_PATH, COLUMNS_PATH)\n",
        "\n",
        "# --- Sidebar ---\n",
        "st.sidebar.title(\"📡 ChurnGuard Analytics\")\n",
        "st.sidebar.markdown(\"### Navigation\")\n",
        "page = st.sidebar.radio(\"Go to\", [\"Dashboard Overview\", \"Churn Risk Predictor\"])\n",
        "\n",
        "st.sidebar.markdown(\"---\")\n",
        "st.sidebar.info(\n",
        "    \"This dashboard provides tools for analyzing and predicting customer churn in the telecom industry.\"\n",
        ")\n",
        "st.sidebar.markdown(\"**Developed by:** Aman Agrawal\")\n",
        "\n",
        "# --- Main Application ---\n",
        "if page == \"Dashboard Overview\":\n",
        "    st.title(\"📊 Dashboard Overview\")\n",
        "    st.markdown(\"An analytical summary of customer demographics and churn drivers.\")\n",
        "\n",
        "    if df_viz is not None:\n",
        "        total_customers = df_viz.shape[0]\n",
        "        total_churned = df_viz[df_viz['Churn'] == 'Yes'].shape[0]\n",
        "        churn_rate = (total_churned / total_customers) * 100\n",
        "\n",
        "        col1, col2, col3 = st.columns(3)\n",
        "        col1.metric(\"Total Customers\", f\"{total_customers:,}\")\n",
        "        col2.metric(\"Total Churned\", f\"{total_churned:,}\")\n",
        "        col3.metric(\"Churn Rate\", f\"{churn_rate:.2f}%\")\n",
        "\n",
        "        st.markdown(\"---\")\n",
        "\n",
        "        c1, c2 = st.columns((1, 1))\n",
        "        with c1:\n",
        "            st.subheader(\"Churn Rate by Contract Type\")\n",
        "            churn_by_contract = df_viz.groupby('Contract')['Churn'].value_counts(normalize=True).unstack().fillna(0)\n",
        "            fig = px.bar(churn_by_contract, y='Yes', title=\"Churn Rate per Contract Type\",\n",
        "                         labels={'Yes': 'Churn Rate', 'Contract': 'Contract Type'},\n",
        "                         template='plotly_white', color_discrete_sequence=['#E55451'])\n",
        "            fig.update_yaxes(tickformat=\".0%\")\n",
        "            st.plotly_chart(fig, use_container_width=True)\n",
        "\n",
        "        with c2:\n",
        "            st.subheader(\"Tenure Distribution\")\n",
        "            fig = px.histogram(df_viz, x='tenure', color='Churn', nbins=50,\n",
        "                               title=\"Customer Tenure Distribution by Churn Status\",\n",
        "                               template='plotly_white',\n",
        "                               color_discrete_map={'No': '#4A90E2', 'Yes': '#E55451'})\n",
        "            st.plotly_chart(fig, use_container_width=True)\n",
        "\n",
        "        st.subheader(\"Monthly Charges vs. Total Charges\")\n",
        "        fig = px.scatter(df_viz, x='MonthlyCharges', y='TotalCharges', color='Churn',\n",
        "                         title=\"Monthly vs. Total Charges by Churn Status\",\n",
        "                         template='plotly_white',\n",
        "                         color_discrete_map={'No': 'rgba(74, 144, 226, 0.6)', 'Yes': 'rgba(229, 84, 81, 0.8)'})\n",
        "        st.plotly_chart(fig, use_container_width=True)\n",
        "    else:\n",
        "        st.warning(\"Could not load data for visualizations. Check file paths.\")\n",
        "\n",
        "elif page == \"Churn Risk Predictor\":\n",
        "    st.title(\"🔮 Churn Risk Predictor\")\n",
        "    st.markdown(\"Enter customer details to predict their churn risk.\")\n",
        "\n",
        "    if model and model_columns is not None:\n",
        "        with st.form(\"prediction_form\"):\n",
        "            st.header(\"Customer Details\")\n",
        "\n",
        "            contract_options = ['Month-to-month', 'One year', 'Two year']\n",
        "            internet_options = ['DSL', 'Fiber optic', 'No']\n",
        "            payment_options = ['Electronic check', 'Mailed check', 'Bank transfer (automatic)', 'Credit card (automatic)']\n",
        "\n",
        "            col1, col2, col3 = st.columns(3)\n",
        "            with col1:\n",
        "                tenure = st.slider(\"Tenure (Months)\", 0, 72, 12)\n",
        "                contract = st.selectbox(\"Contract\", options=contract_options)\n",
        "                internet_service = st.selectbox(\"Internet Service\", options=internet_options)\n",
        "                online_security = st.selectbox(\"Online Security\", options=['Yes', 'No', 'No internet service'])\n",
        "\n",
        "            with col2:\n",
        "                monthly_charges = st.slider(\"Monthly Charges ($)\", 18.0, 120.0, 70.0, 0.1)\n",
        "                tech_support = st.selectbox(\"Tech Support\", options=['Yes', 'No', 'No internet service'])\n",
        "                payment_method = st.selectbox(\"Payment Method\", options=payment_options)\n",
        "                dependents = st.selectbox(\"Has Dependents?\", options=['No', 'Yes'])\n",
        "\n",
        "            with col3:\n",
        "                total_charges = st.number_input(\"Total Charges ($)\", min_value=0.0, value=1000.0, step=50.0)\n",
        "                paperless_billing = st.selectbox(\"Paperless Billing?\", options=['Yes', 'No'])\n",
        "                senior_citizen = st.selectbox(\"Is a Senior Citizen?\", options=[0, 1], format_func=lambda x: 'Yes' if x == 1 else 'No')\n",
        "                partner = st.selectbox(\"Has a Partner?\", options=['No', 'Yes'])\n",
        "\n",
        "            submit_button = st.form_submit_button(label=\"Predict Churn Risk\")\n",
        "\n",
        "        if submit_button:\n",
        "            input_dict = {\n",
        "                'gender': 'Male', 'SeniorCitizen': senior_citizen, 'Partner': partner, 'Dependents': dependents,\n",
        "                'tenure': tenure, 'PhoneService': 'Yes', 'MultipleLines': 'No', 'InternetService': internet_service,\n",
        "                'OnlineSecurity': online_security, 'OnlineBackup': 'No', 'DeviceProtection': 'No',\n",
        "                'TechSupport': tech_support, 'StreamingTV': 'No', 'StreamingMovies': 'No',\n",
        "                'Contract': contract, 'PaperlessBilling': paperless_billing, 'PaymentMethod': payment_method,\n",
        "                'MonthlyCharges': monthly_charges, 'TotalCharges': total_charges\n",
        "            }\n",
        "\n",
        "            input_df = pd.DataFrame([input_dict])\n",
        "            input_encoded = pd.get_dummies(input_df).reindex(columns=model_columns, fill_value=0)\n",
        "            prediction_proba = model.predict_proba(input_encoded)[0][1]\n",
        "\n",
        "            st.subheader(\"Prediction Result\")\n",
        "            st.progress(prediction_proba)\n",
        "\n",
        "            if prediction_proba > 0.5:\n",
        "                st.error(f\"High Risk: There is a {prediction_proba:.1%} probability of churn.\", icon=\"🚨\")\n",
        "            elif prediction_proba > 0.25:\n",
        "                st.warning(f\"Moderate Risk: There is a {prediction_proba:.1%} probability of churn.\", icon=\"⚠️\")\n",
        "            else:\n",
        "                st.success(f\"Low Risk: There is a {prediction_proba:.1%} probability of churn.\", icon=\"✅\")\n",
        "    else:\n",
        "        st.warning(\"Prediction model is not available. Check file paths.\")"
      ],
      "metadata": {
        "colab": {
          "base_uri": "https://localhost:8080/"
        },
        "id": "A-Xomb8zrypW",
        "outputId": "eadcf28f-530c-4e5f-87c6-16aa737b4263"
      },
      "execution_count": 7,
      "outputs": [
        {
          "output_type": "stream",
          "name": "stdout",
          "text": [
            "Overwriting app.py\n"
          ]
        }
      ]
    },
    {
      "cell_type": "code",
      "source": [
        "# Add your ngrok authtoken\n",
        "from pyngrok import ngrok\n",
        "\n",
        "# Paste your authtoken here when prompted\n",
        "authtoken = \"30vQqkznkT1Sp41PgevzugRrJXR_4cxCaSJP48Y7HeAwtB7CN\" # Replace with your actual token\n",
        "ngrok.set_auth_token(authtoken)"
      ],
      "metadata": {
        "id": "N6bTHK6or005"
      },
      "execution_count": 8,
      "outputs": []
    },
    {
      "cell_type": "code",
      "source": [
        "# Run the app using pyngrok\n",
        "public_url = ngrok.connect(8501)\n",
        "print('Your Streamlit app is live at:', public_url)\n",
        "!streamlit run app.py --server.port 8501"
      ],
      "metadata": {
        "colab": {
          "base_uri": "https://localhost:8080/"
        },
        "id": "NUfWzUoqsze-",
        "outputId": "7130931f-f03b-4972-97cd-023b3f31ba4a"
      },
      "execution_count": null,
      "outputs": [
        {
          "output_type": "stream",
          "name": "stdout",
          "text": [
            "Your Streamlit app is live at: NgrokTunnel: \"https://8f5fb6b702a6.ngrok-free.app\" -> \"http://localhost:8501\"\n",
            "\n",
            "Collecting usage statistics. To deactivate, set browser.gatherUsageStats to false.\n",
            "\u001b[0m\n",
            "\u001b[0m\n",
            "\u001b[34m\u001b[1m  You can now view your Streamlit app in your browser.\u001b[0m\n",
            "\u001b[0m\n",
            "\u001b[34m  Local URL: \u001b[0m\u001b[1mhttp://localhost:8501\u001b[0m\n",
            "\u001b[34m  Network URL: \u001b[0m\u001b[1mhttp://172.28.0.12:8501\u001b[0m\n",
            "\u001b[34m  External URL: \u001b[0m\u001b[1mhttp://35.221.231.212:8501\u001b[0m\n",
            "\u001b[0m\n"
          ]
        },
        {
          "output_type": "stream",
          "name": "stderr",
          "text": [
            "WARNING:pyngrok.process.ngrok:t=2025-08-06T18:54:05+0000 lvl=warn msg=\"failed to check for update\" obj=updater err=\"Post \\\"https://update.equinox.io/check\\\": context deadline exceeded\"\n"
          ]
        },
        {
          "output_type": "stream",
          "name": "stdout",
          "text": [
            "/usr/local/lib/python3.11/dist-packages/sklearn/base.py:348: InconsistentVersionWarning: Trying to unpickle estimator DecisionTreeClassifier from version 1.6.1 when using version 1.3.2. This might lead to breaking code or invalid results. Use at your own risk. For more info please refer to:\n",
            "https://scikit-learn.org/stable/model_persistence.html#security-maintainability-limitations\n",
            "  warnings.warn(\n",
            "/usr/local/lib/python3.11/dist-packages/sklearn/base.py:348: InconsistentVersionWarning: Trying to unpickle estimator RandomForestClassifier from version 1.6.1 when using version 1.3.2. This might lead to breaking code or invalid results. Use at your own risk. For more info please refer to:\n",
            "https://scikit-learn.org/stable/model_persistence.html#security-maintainability-limitations\n",
            "  warnings.warn(\n"
          ]
        }
      ]
    }
  ]
}